{
 "cells": [
  {
   "cell_type": "markdown",
   "id": "6f0a934d",
   "metadata": {},
   "source": [
    "## Lines, Scatters and Bars"
   ]
  },
  {
   "cell_type": "markdown",
   "id": "5b01b853",
   "metadata": {},
   "source": [
    "Lines, Scatters and Bars\n",
    "\n",
    "Instructions\n",
    "\n",
    "In this lesson, you worked with line charts, scatterplots, and bar charts to show interesting facts about this dataset. In this assignment, dig deeper into the dataset to discover a fact about a given type of bird. For example, create a notebook visualizing all the interesting data you can uncover about Snow Geese. Use the three plots mentioned above to tell a story in your notebook.\n",
    "\n",
    "Rubric\n",
    "Exemplary\tAdequate\tNeeds Improvement\n",
    "A notebook is presented with good annotations, solid storytelling, and attractive graphs\tThe notebook is missing one of these elements\tThe notebook is missing two of these elements"
   ]
  },
  {
   "cell_type": "code",
   "execution_count": 36,
   "id": "cd54647d",
   "metadata": {},
   "outputs": [],
   "source": [
    "import pandas as pd\n",
    "import matplotlib.pyplot as plt\n"
   ]
  },
  {
   "cell_type": "code",
   "execution_count": 37,
   "id": "770d1aa3",
   "metadata": {},
   "outputs": [
    {
     "name": "stdout",
     "output_type": "stream",
     "text": [
      "                           Name          ScientificName  \\\n",
      "0  Black-bellied whistling-duck  Dendrocygna autumnalis   \n",
      "1        Fulvous whistling-duck     Dendrocygna bicolor   \n",
      "2                    Snow goose      Anser caerulescens   \n",
      "3                  Ross's goose            Anser rossii   \n",
      "4   Greater white-fronted goose         Anser albifrons   \n",
      "\n",
      "                Category         Order    Family        Genus  \\\n",
      "0  Ducks/Geese/Waterfowl  Anseriformes  Anatidae  Dendrocygna   \n",
      "1  Ducks/Geese/Waterfowl  Anseriformes  Anatidae  Dendrocygna   \n",
      "2  Ducks/Geese/Waterfowl  Anseriformes  Anatidae        Anser   \n",
      "3  Ducks/Geese/Waterfowl  Anseriformes  Anatidae        Anser   \n",
      "4  Ducks/Geese/Waterfowl  Anseriformes  Anatidae        Anser   \n",
      "\n",
      "  ConservationStatus  MinLength  MaxLength  MinBodyMass  MaxBodyMass  \\\n",
      "0                 LC       47.0       56.0        652.0       1020.0   \n",
      "1                 LC       45.0       53.0        712.0       1050.0   \n",
      "2                 LC       64.0       79.0       2050.0       4050.0   \n",
      "3                 LC       57.3       64.0       1066.0       1567.0   \n",
      "4                 LC       64.0       81.0       1930.0       3310.0   \n",
      "\n",
      "   MinWingspan  MaxWingspan  \n",
      "0         76.0         94.0  \n",
      "1         85.0         93.0  \n",
      "2        135.0        165.0  \n",
      "3        113.0        116.0  \n",
      "4        130.0        165.0  \n"
     ]
    }
   ],
   "source": [
    "# Load dataset\n",
    "path = r\"C:\\Users\\LENOVO\\Cohort-3.0-Machine-Learning-Assignments\\data\\birds.csv\"\n",
    "df = pd.read_csv(path)\n",
    "\n",
    "# Display the first few rows of the dataset\n",
    "print(df.head())\n",
    "\n"
   ]
  },
  {
   "cell_type": "code",
   "execution_count": 47,
   "id": "83b03971",
   "metadata": {},
   "outputs": [
    {
     "name": "stdout",
     "output_type": "stream",
     "text": [
      "                           Name          ScientificName  \\\n",
      "0  Black-Bellied Whistling-Duck  Dendrocygna autumnalis   \n",
      "1        Fulvous Whistling-Duck     Dendrocygna bicolor   \n",
      "2                    Snow Goose      Anser caerulescens   \n",
      "3                  Ross'S Goose            Anser rossii   \n",
      "4   Greater White-Fronted Goose         Anser albifrons   \n",
      "\n",
      "                Category         Order    Family        Genus  \\\n",
      "0  Ducks/Geese/Waterfowl  Anseriformes  Anatidae  Dendrocygna   \n",
      "1  Ducks/Geese/Waterfowl  Anseriformes  Anatidae  Dendrocygna   \n",
      "2  Ducks/Geese/Waterfowl  Anseriformes  Anatidae        Anser   \n",
      "3  Ducks/Geese/Waterfowl  Anseriformes  Anatidae        Anser   \n",
      "4  Ducks/Geese/Waterfowl  Anseriformes  Anatidae        Anser   \n",
      "\n",
      "  ConservationStatus  MinLength  MaxLength  MinBodyMass  MaxBodyMass  \\\n",
      "0                 LC       47.0       56.0        652.0       1020.0   \n",
      "1                 LC       45.0       53.0        712.0       1050.0   \n",
      "2                 LC       64.0       79.0       2050.0       4050.0   \n",
      "3                 LC       57.3       64.0       1066.0       1567.0   \n",
      "4                 LC       64.0       81.0       1930.0       3310.0   \n",
      "\n",
      "   MinWingspan  MaxWingspan  \n",
      "0         76.0         94.0  \n",
      "1         85.0         93.0  \n",
      "2        135.0        165.0  \n",
      "3        113.0        116.0  \n",
      "4        130.0        165.0  \n"
     ]
    },
    {
     "data": {
      "application/vnd.microsoft.datawrangler.viewer.v0+json": {
       "columns": [
        {
         "name": "index",
         "rawType": "int64",
         "type": "integer"
        },
        {
         "name": "Name",
         "rawType": "object",
         "type": "string"
        },
        {
         "name": "ScientificName",
         "rawType": "object",
         "type": "string"
        },
        {
         "name": "Category",
         "rawType": "object",
         "type": "string"
        },
        {
         "name": "Order",
         "rawType": "object",
         "type": "string"
        },
        {
         "name": "Family",
         "rawType": "object",
         "type": "string"
        },
        {
         "name": "Genus",
         "rawType": "object",
         "type": "string"
        },
        {
         "name": "ConservationStatus",
         "rawType": "object",
         "type": "string"
        },
        {
         "name": "MinLength",
         "rawType": "float64",
         "type": "float"
        },
        {
         "name": "MaxLength",
         "rawType": "float64",
         "type": "float"
        },
        {
         "name": "MinBodyMass",
         "rawType": "float64",
         "type": "float"
        },
        {
         "name": "MaxBodyMass",
         "rawType": "float64",
         "type": "float"
        },
        {
         "name": "MinWingspan",
         "rawType": "float64",
         "type": "float"
        },
        {
         "name": "MaxWingspan",
         "rawType": "float64",
         "type": "float"
        }
       ],
       "ref": "c4ed023b-8e10-4c53-860f-0bc7f71a28b6",
       "rows": [
        [
         "2",
         "Snow Goose",
         "Anser caerulescens",
         "Ducks/Geese/Waterfowl",
         "Anseriformes",
         "Anatidae",
         "Anser",
         "LC",
         "64.0",
         "79.0",
         "2050.0",
         "4050.0",
         "135.0",
         "165.0"
        ]
       ],
       "shape": {
        "columns": 13,
        "rows": 1
       }
      },
      "text/html": [
       "<div>\n",
       "<style scoped>\n",
       "    .dataframe tbody tr th:only-of-type {\n",
       "        vertical-align: middle;\n",
       "    }\n",
       "\n",
       "    .dataframe tbody tr th {\n",
       "        vertical-align: top;\n",
       "    }\n",
       "\n",
       "    .dataframe thead th {\n",
       "        text-align: right;\n",
       "    }\n",
       "</style>\n",
       "<table border=\"1\" class=\"dataframe\">\n",
       "  <thead>\n",
       "    <tr style=\"text-align: right;\">\n",
       "      <th></th>\n",
       "      <th>Name</th>\n",
       "      <th>ScientificName</th>\n",
       "      <th>Category</th>\n",
       "      <th>Order</th>\n",
       "      <th>Family</th>\n",
       "      <th>Genus</th>\n",
       "      <th>ConservationStatus</th>\n",
       "      <th>MinLength</th>\n",
       "      <th>MaxLength</th>\n",
       "      <th>MinBodyMass</th>\n",
       "      <th>MaxBodyMass</th>\n",
       "      <th>MinWingspan</th>\n",
       "      <th>MaxWingspan</th>\n",
       "    </tr>\n",
       "  </thead>\n",
       "  <tbody>\n",
       "    <tr>\n",
       "      <th>2</th>\n",
       "      <td>Snow Goose</td>\n",
       "      <td>Anser caerulescens</td>\n",
       "      <td>Ducks/Geese/Waterfowl</td>\n",
       "      <td>Anseriformes</td>\n",
       "      <td>Anatidae</td>\n",
       "      <td>Anser</td>\n",
       "      <td>LC</td>\n",
       "      <td>64.0</td>\n",
       "      <td>79.0</td>\n",
       "      <td>2050.0</td>\n",
       "      <td>4050.0</td>\n",
       "      <td>135.0</td>\n",
       "      <td>165.0</td>\n",
       "    </tr>\n",
       "  </tbody>\n",
       "</table>\n",
       "</div>"
      ],
      "text/plain": [
       "         Name      ScientificName               Category         Order  \\\n",
       "2  Snow Goose  Anser caerulescens  Ducks/Geese/Waterfowl  Anseriformes   \n",
       "\n",
       "     Family  Genus ConservationStatus  MinLength  MaxLength  MinBodyMass  \\\n",
       "2  Anatidae  Anser                 LC       64.0       79.0       2050.0   \n",
       "\n",
       "   MaxBodyMass  MinWingspan  MaxWingspan  \n",
       "2       4050.0        135.0        165.0  "
      ]
     },
     "execution_count": 47,
     "metadata": {},
     "output_type": "execute_result"
    }
   ],
   "source": [
    "import pandas as pd\n",
    "import matplotlib.pyplot as plt\n",
    "import seaborn as sns\n",
    "\n",
    "# Optional cleaning\n",
    "df['Name'] = df['Name'].str.strip().str.title()\n",
    "\n",
    "# Display the first few rows of the cleaned dataset\n",
    "print(df.head())\n",
    "\n",
    "\n",
    "# Filter only Snow Goose entries\n",
    "snow_goose = df[df['Name'] == 'Snow Goose']\n",
    "snow_goose\n"
   ]
  },
  {
   "cell_type": "markdown",
   "id": "72af6662",
   "metadata": {},
   "source": [
    "📈 1. Line Chart: Body Mass Range of Snow Goose\n"
   ]
  },
  {
   "cell_type": "code",
   "execution_count": 39,
   "id": "43e41b5c",
   "metadata": {},
   "outputs": [
    {
     "data": {
      "image/png": "[encoded data removed]",
      "text/plain": [
       "<Figure size 576x360 with 1 Axes>"
      ]
     },
     "metadata": {
      "needs_background": "light"
     },
     "output_type": "display_data"
    }
   ],
   "source": [
    "# Line chart showing body mass range\n",
    "plt.figure(figsize=(8, 5))\n",
    "plt.plot(['Min Body Mass', 'Max Body Mass'],\n",
    "         [snow_goose['MinBodyMass'].values[0], snow_goose['MaxBodyMass'].values[0]],\n",
    "         marker='o', linestyle='-', color='blue')\n",
    "\n",
    "plt.title('Snow Goose Body Mass Range')\n",
    "plt.ylabel('Mass (g)')\n",
    "plt.grid(True)\n",
    "plt.show()\n"
   ]
  },
  {
   "cell_type": "markdown",
   "id": "0196c41a",
   "metadata": {},
   "source": [
    "⚫ 2. Scatter Plot: Length vs. Wingspan Comparison with Other Geese\n"
   ]
  },
  {
   "cell_type": "code",
   "execution_count": 40,
   "id": "b26b1a8c",
   "metadata": {},
   "outputs": [
    {
     "data": {
      "image/png": "[encoded data removed]",
      "text/plain": [
       "<Figure size 720x432 with 1 Axes>"
      ]
     },
     "metadata": {
      "needs_background": "light"
     },
     "output_type": "display_data"
    }
   ],
   "source": [
    "# Filter for all geese (based on Genus 'Anser')\n",
    "geese = df[df['Genus'] == 'Anser']\n",
    "\n",
    "plt.figure(figsize=(10, 6))\n",
    "sns.scatterplot(data=geese,\n",
    "                x='MaxLength', y='MaxWingspan',\n",
    "                hue='Name', s=100)\n",
    "\n",
    "plt.title('Goose Species: Max Length vs Max Wingspan')\n",
    "plt.xlabel('Maximum Length (cm)')\n",
    "plt.ylabel('Maximum Wingspan (cm)')\n",
    "plt.grid(True)\n",
    "plt.legend(bbox_to_anchor=(1.05, 1), loc='upper left')\n",
    "plt.show()\n"
   ]
  },
  {
   "cell_type": "markdown",
   "id": "8612035a",
   "metadata": {},
   "source": [
    "📊 3. Bar Chart: Body Mass Comparison Across Geese\n"
   ]
  },
  {
   "cell_type": "code",
   "execution_count": 41,
   "id": "0195d973",
   "metadata": {},
   "outputs": [
    {
     "data": {
      "image/png": "[encoded data removed]",
      "text/plain": [
       "<Figure size 864x432 with 1 Axes>"
      ]
     },
     "metadata": {
      "needs_background": "light"
     },
     "output_type": "display_data"
    }
   ],
   "source": [
    "# Bar chart of min and max body mass\n",
    "goose_names = geese['Name']\n",
    "min_mass = geese['MinBodyMass']\n",
    "max_mass = geese['MaxBodyMass']\n",
    "\n",
    "x = range(len(goose_names))\n",
    "\n",
    "plt.figure(figsize=(12, 6))\n",
    "plt.bar(x, min_mass, label='Min Body Mass', color='lightblue')\n",
    "plt.bar(x, max_mass - min_mass, bottom=min_mass, label='Max Body Mass', color='navy')\n",
    "\n",
    "plt.xticks(x, goose_names, rotation=45)\n",
    "plt.ylabel('Body Mass (g)')\n",
    "plt.title('Min and Max Body Mass of Goose Species')\n",
    "plt.legend()\n",
    "plt.tight_layout()\n",
    "plt.show()\n"
   ]
  },
  {
   "cell_type": "code",
   "execution_count": null,
   "id": "25ccfb7a",
   "metadata": {},
   "outputs": [],
   "source": []
  }
 ],
 "metadata": {
  "kernelspec": {
   "display_name": "base",
   "language": "python",
   "name": "python3"
  },
  "language_info": {
   "codemirror_mode": {
    "name": "ipython",
    "version": 3
   },
   "file_extension": ".py",
   "mimetype": "text/x-python",
   "name": "python",
   "nbconvert_exporter": "python",
   "pygments_lexer": "ipython3",
   "version": "3.7.3"
  }
 },
 "nbformat": 4,
 "nbformat_minor": 5
}
