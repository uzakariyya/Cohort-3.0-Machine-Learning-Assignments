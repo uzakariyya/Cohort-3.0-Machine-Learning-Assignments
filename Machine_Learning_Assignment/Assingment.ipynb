{
 "cells": [
  {
   "cell_type": "markdown",
   "id": "9ecc8cdf",
   "metadata": {},
   "source": []
  },
  {
   "cell_type": "code",
   "execution_count": null,
   "id": "a75b8cf6",
   "metadata": {},
   "outputs": [],
   "source": [
    "import pandas as pd\n",
    "import matplotlib.pyplot as plt"
   ]
  },
  {
   "cell_type": "code",
   "execution_count": null,
   "id": "5332f4e5",
   "metadata": {},
   "outputs": [
    {
     "name": "stdout",
     "output_type": "stream",
     "text": [
      "Empty DataFrame\n",
      "Columns: [C:\\Users\\LENOVO\\Documents\\GitHub\\ArewaDS-Machine-Learning\\data\\form.csv]\n",
      "Index: []\n",
      "Empty DataFrame\n",
      "Columns: [C:\\Users\\LENOVO\\Documents\\GitHub\\ArewaDS-Machine-Learning\\data\\form.csv]\n",
      "Index: []\n"
     ]
    }
   ],
   "source": [
    "# Load the CSV file into a DataFrame\n",
    "\n",
    "path = 'data/form.csv'\n",
    "form_df = pd.read_csv(path)\n",
    "print(form_df)\n",
    "# Display the first few rows of the DataFrame\n",
    "print(form_df.head())\n"
   ]
  }
 ],
 "metadata": {
  "kernelspec": {
   "display_name": "base",
   "language": "python",
   "name": "python3"
  },
  "language_info": {
   "codemirror_mode": {
    "name": "ipython",
    "version": 3
   },
   "file_extension": ".py",
   "mimetype": "text/x-python",
   "name": "python",
   "nbconvert_exporter": "python",
   "pygments_lexer": "ipython3",
   "version": "3.7.3"
  }
 },
 "nbformat": 4,
 "nbformat_minor": 5
}
