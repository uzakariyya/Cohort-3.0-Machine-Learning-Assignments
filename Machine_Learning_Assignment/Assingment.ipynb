{
 "cells": [
  {
   "cell_type": "markdown",
   "id": "a0c2b400",
   "metadata": {},
   "source": [
    "### Week One"
   ]
  },
  {
   "cell_type": "code",
   "execution_count": 10,
   "id": "36805817",
   "metadata": {
    "vscode": {
     "languageId": "markdown"
    }
   },
   "outputs": [],
   "source": [
    "## Working with Data assignment\n",
    "\n",
    "#### This assignment involves loading, cleaning, and analyzing a dataset containing information about birth months, states, and pets. The steps include handling missing values, standardizing categorical data, removing duplicates, and visualizing the results."
   ]
  },
  {
   "cell_type": "code",
   "execution_count": 2,
   "id": "a75b8cf6",
   "metadata": {},
   "outputs": [],
   "source": [
    "import pandas as pd\n",
    "import matplotlib.pyplot as plt"
   ]
  },
  {
   "cell_type": "code",
   "execution_count": 3,
   "id": "5332f4e5",
   "metadata": {},
   "outputs": [
    {
     "name": "stdout",
     "output_type": "stream",
     "text": [
      "       birth_month       state   pet\n",
      "0  January                 NaN  Cats\n",
      "1              JAN          CA  Cats\n",
      "2             Sept      Hawaii   Dog\n",
      "3          January          AK   Dog\n",
      "4             July          RI  Cats\n",
      "5        September  California  Cats\n",
      "6            April          CA   Dog\n",
      "7          January  California  Cats\n",
      "8         November          FL   Dog\n",
      "9         December     Florida  Cats\n"
     ]
    }
   ],
   "source": [
    "# Load the CSV file into a DataFrame\n",
    "\n",
    "path = 'data/form.csv'\n",
    "form_df = pd.read_csv(path)\n",
    "print(form_df)\n",
    "\n",
    "\n"
   ]
  },
  {
   "cell_type": "code",
   "execution_count": 4,
   "id": "dc73d5d3",
   "metadata": {},
   "outputs": [
    {
     "data": {
      "application/vnd.microsoft.datawrangler.viewer.v0+json": {
       "columns": [
        {
         "name": "index",
         "rawType": "int64",
         "type": "integer"
        },
        {
         "name": "birth_month",
         "rawType": "object",
         "type": "string"
        },
        {
         "name": "state",
         "rawType": "object",
         "type": "string"
        },
        {
         "name": "pet",
         "rawType": "object",
         "type": "string"
        }
       ],
       "ref": "5b13f81f-9551-4014-9230-d915421f0a0f",
       "rows": [
        [
         "1",
         "JAN",
         "CA",
         "Cats"
        ],
        [
         "2",
         "Sept",
         "Hawaii",
         "Dog"
        ],
        [
         "3",
         "January",
         "AK",
         "Dog"
        ],
        [
         "4",
         "July",
         "RI",
         "Cats"
        ],
        [
         "5",
         "September",
         "California",
         "Cats"
        ],
        [
         "6",
         "April",
         "CA",
         "Dog"
        ],
        [
         "7",
         "January",
         "California",
         "Cats"
        ],
        [
         "8",
         "November",
         "FL",
         "Dog"
        ],
        [
         "9",
         "December",
         "Florida",
         "Cats"
        ]
       ],
       "shape": {
        "columns": 3,
        "rows": 9
       }
      },
      "text/html": [
       "<div>\n",
       "<style scoped>\n",
       "    .dataframe tbody tr th:only-of-type {\n",
       "        vertical-align: middle;\n",
       "    }\n",
       "\n",
       "    .dataframe tbody tr th {\n",
       "        vertical-align: top;\n",
       "    }\n",
       "\n",
       "    .dataframe thead th {\n",
       "        text-align: right;\n",
       "    }\n",
       "</style>\n",
       "<table border=\"1\" class=\"dataframe\">\n",
       "  <thead>\n",
       "    <tr style=\"text-align: right;\">\n",
       "      <th></th>\n",
       "      <th>birth_month</th>\n",
       "      <th>state</th>\n",
       "      <th>pet</th>\n",
       "    </tr>\n",
       "  </thead>\n",
       "  <tbody>\n",
       "    <tr>\n",
       "      <th>1</th>\n",
       "      <td>JAN</td>\n",
       "      <td>CA</td>\n",
       "      <td>Cats</td>\n",
       "    </tr>\n",
       "    <tr>\n",
       "      <th>2</th>\n",
       "      <td>Sept</td>\n",
       "      <td>Hawaii</td>\n",
       "      <td>Dog</td>\n",
       "    </tr>\n",
       "    <tr>\n",
       "      <th>3</th>\n",
       "      <td>January</td>\n",
       "      <td>AK</td>\n",
       "      <td>Dog</td>\n",
       "    </tr>\n",
       "    <tr>\n",
       "      <th>4</th>\n",
       "      <td>July</td>\n",
       "      <td>RI</td>\n",
       "      <td>Cats</td>\n",
       "    </tr>\n",
       "    <tr>\n",
       "      <th>5</th>\n",
       "      <td>September</td>\n",
       "      <td>California</td>\n",
       "      <td>Cats</td>\n",
       "    </tr>\n",
       "    <tr>\n",
       "      <th>6</th>\n",
       "      <td>April</td>\n",
       "      <td>CA</td>\n",
       "      <td>Dog</td>\n",
       "    </tr>\n",
       "    <tr>\n",
       "      <th>7</th>\n",
       "      <td>January</td>\n",
       "      <td>California</td>\n",
       "      <td>Cats</td>\n",
       "    </tr>\n",
       "    <tr>\n",
       "      <th>8</th>\n",
       "      <td>November</td>\n",
       "      <td>FL</td>\n",
       "      <td>Dog</td>\n",
       "    </tr>\n",
       "    <tr>\n",
       "      <th>9</th>\n",
       "      <td>December</td>\n",
       "      <td>Florida</td>\n",
       "      <td>Cats</td>\n",
       "    </tr>\n",
       "  </tbody>\n",
       "</table>\n",
       "</div>"
      ],
      "text/plain": [
       "  birth_month       state   pet\n",
       "1         JAN          CA  Cats\n",
       "2        Sept      Hawaii   Dog\n",
       "3     January          AK   Dog\n",
       "4        July          RI  Cats\n",
       "5   September  California  Cats\n",
       "6       April          CA   Dog\n",
       "7     January  California  Cats\n",
       "8    November          FL   Dog\n",
       "9    December     Florida  Cats"
      ]
     },
     "execution_count": 4,
     "metadata": {},
     "output_type": "execute_result"
    }
   ],
   "source": [
    "# Drop rows with NaN values in the 'form' column\n",
    "form_df = form_df.dropna()\n",
    "form_df"
   ]
  },
  {
   "cell_type": "code",
   "execution_count": 5,
   "id": "0d1b4a3f",
   "metadata": {},
   "outputs": [
    {
     "data": {
      "application/vnd.microsoft.datawrangler.viewer.v0+json": {
       "columns": [
        {
         "name": "index",
         "rawType": "int64",
         "type": "integer"
        },
        {
         "name": "birth_month",
         "rawType": "object",
         "type": "string"
        },
        {
         "name": "state",
         "rawType": "object",
         "type": "string"
        },
        {
         "name": "pet",
         "rawType": "object",
         "type": "string"
        }
       ],
       "ref": "b1ce743e-8a7d-4388-ab2b-deeb8e4f864a",
       "rows": [
        [
         "1",
         "January",
         "CA",
         "Cats"
        ],
        [
         "2",
         "September",
         "Hawaii",
         "Dog"
        ],
        [
         "3",
         "January",
         "AK",
         "Dog"
        ],
        [
         "4",
         "July",
         "RI",
         "Cats"
        ],
        [
         "5",
         "September",
         "California",
         "Cats"
        ],
        [
         "6",
         "April",
         "CA",
         "Dog"
        ],
        [
         "7",
         "January",
         "California",
         "Cats"
        ],
        [
         "8",
         "November",
         "FL",
         "Dog"
        ],
        [
         "9",
         "December",
         "Florida",
         "Cats"
        ]
       ],
       "shape": {
        "columns": 3,
        "rows": 9
       }
      },
      "text/html": [
       "<div>\n",
       "<style scoped>\n",
       "    .dataframe tbody tr th:only-of-type {\n",
       "        vertical-align: middle;\n",
       "    }\n",
       "\n",
       "    .dataframe tbody tr th {\n",
       "        vertical-align: top;\n",
       "    }\n",
       "\n",
       "    .dataframe thead th {\n",
       "        text-align: right;\n",
       "    }\n",
       "</style>\n",
       "<table border=\"1\" class=\"dataframe\">\n",
       "  <thead>\n",
       "    <tr style=\"text-align: right;\">\n",
       "      <th></th>\n",
       "      <th>birth_month</th>\n",
       "      <th>state</th>\n",
       "      <th>pet</th>\n",
       "    </tr>\n",
       "  </thead>\n",
       "  <tbody>\n",
       "    <tr>\n",
       "      <th>1</th>\n",
       "      <td>January</td>\n",
       "      <td>CA</td>\n",
       "      <td>Cats</td>\n",
       "    </tr>\n",
       "    <tr>\n",
       "      <th>2</th>\n",
       "      <td>September</td>\n",
       "      <td>Hawaii</td>\n",
       "      <td>Dog</td>\n",
       "    </tr>\n",
       "    <tr>\n",
       "      <th>3</th>\n",
       "      <td>January</td>\n",
       "      <td>AK</td>\n",
       "      <td>Dog</td>\n",
       "    </tr>\n",
       "    <tr>\n",
       "      <th>4</th>\n",
       "      <td>July</td>\n",
       "      <td>RI</td>\n",
       "      <td>Cats</td>\n",
       "    </tr>\n",
       "    <tr>\n",
       "      <th>5</th>\n",
       "      <td>September</td>\n",
       "      <td>California</td>\n",
       "      <td>Cats</td>\n",
       "    </tr>\n",
       "    <tr>\n",
       "      <th>6</th>\n",
       "      <td>April</td>\n",
       "      <td>CA</td>\n",
       "      <td>Dog</td>\n",
       "    </tr>\n",
       "    <tr>\n",
       "      <th>7</th>\n",
       "      <td>January</td>\n",
       "      <td>California</td>\n",
       "      <td>Cats</td>\n",
       "    </tr>\n",
       "    <tr>\n",
       "      <th>8</th>\n",
       "      <td>November</td>\n",
       "      <td>FL</td>\n",
       "      <td>Dog</td>\n",
       "    </tr>\n",
       "    <tr>\n",
       "      <th>9</th>\n",
       "      <td>December</td>\n",
       "      <td>Florida</td>\n",
       "      <td>Cats</td>\n",
       "    </tr>\n",
       "  </tbody>\n",
       "</table>\n",
       "</div>"
      ],
      "text/plain": [
       "  birth_month       state   pet\n",
       "1     January          CA  Cats\n",
       "2   September      Hawaii   Dog\n",
       "3     January          AK   Dog\n",
       "4        July          RI  Cats\n",
       "5   September  California  Cats\n",
       "6       April          CA   Dog\n",
       "7     January  California  Cats\n",
       "8    November          FL   Dog\n",
       "9    December     Florida  Cats"
      ]
     },
     "execution_count": 5,
     "metadata": {},
     "output_type": "execute_result"
    }
   ],
   "source": [
    "# Dictionary to conver short month to full \n",
    "month_dict = {'JAN':'January', 'Sept': 'September'}\n",
    "\n",
    "\n",
    "# Replace the short month names with full names in the 'birth_month' column\n",
    "form_df['birth_month'] = form_df['birth_month'].replace(month_dict)\n",
    "month_dict\n",
    "form_df"
   ]
  },
  {
   "cell_type": "code",
   "execution_count": 6,
   "id": "0ffaf563",
   "metadata": {},
   "outputs": [
    {
     "data": {
      "application/vnd.microsoft.datawrangler.viewer.v0+json": {
       "columns": [
        {
         "name": "index",
         "rawType": "int64",
         "type": "integer"
        },
        {
         "name": "birth_month",
         "rawType": "object",
         "type": "string"
        },
        {
         "name": "state",
         "rawType": "object",
         "type": "string"
        },
        {
         "name": "pet",
         "rawType": "object",
         "type": "string"
        }
       ],
       "ref": "48593033-9aa3-4365-9695-22ed471b694f",
       "rows": [
        [
         "1",
         "January",
         "California",
         "Cats"
        ],
        [
         "2",
         "September",
         "Hawaii",
         "Dog"
        ],
        [
         "3",
         "January",
         "Alaska",
         "Dog"
        ],
        [
         "4",
         "July",
         "Rhode Island",
         "Cats"
        ],
        [
         "5",
         "September",
         "California",
         "Cats"
        ],
        [
         "6",
         "April",
         "California",
         "Dog"
        ],
        [
         "7",
         "January",
         "California",
         "Cats"
        ],
        [
         "8",
         "November",
         "Florida",
         "Dog"
        ],
        [
         "9",
         "December",
         "Florida",
         "Cats"
        ]
       ],
       "shape": {
        "columns": 3,
        "rows": 9
       }
      },
      "text/html": [
       "<div>\n",
       "<style scoped>\n",
       "    .dataframe tbody tr th:only-of-type {\n",
       "        vertical-align: middle;\n",
       "    }\n",
       "\n",
       "    .dataframe tbody tr th {\n",
       "        vertical-align: top;\n",
       "    }\n",
       "\n",
       "    .dataframe thead th {\n",
       "        text-align: right;\n",
       "    }\n",
       "</style>\n",
       "<table border=\"1\" class=\"dataframe\">\n",
       "  <thead>\n",
       "    <tr style=\"text-align: right;\">\n",
       "      <th></th>\n",
       "      <th>birth_month</th>\n",
       "      <th>state</th>\n",
       "      <th>pet</th>\n",
       "    </tr>\n",
       "  </thead>\n",
       "  <tbody>\n",
       "    <tr>\n",
       "      <th>1</th>\n",
       "      <td>January</td>\n",
       "      <td>California</td>\n",
       "      <td>Cats</td>\n",
       "    </tr>\n",
       "    <tr>\n",
       "      <th>2</th>\n",
       "      <td>September</td>\n",
       "      <td>Hawaii</td>\n",
       "      <td>Dog</td>\n",
       "    </tr>\n",
       "    <tr>\n",
       "      <th>3</th>\n",
       "      <td>January</td>\n",
       "      <td>Alaska</td>\n",
       "      <td>Dog</td>\n",
       "    </tr>\n",
       "    <tr>\n",
       "      <th>4</th>\n",
       "      <td>July</td>\n",
       "      <td>Rhode Island</td>\n",
       "      <td>Cats</td>\n",
       "    </tr>\n",
       "    <tr>\n",
       "      <th>5</th>\n",
       "      <td>September</td>\n",
       "      <td>California</td>\n",
       "      <td>Cats</td>\n",
       "    </tr>\n",
       "    <tr>\n",
       "      <th>6</th>\n",
       "      <td>April</td>\n",
       "      <td>California</td>\n",
       "      <td>Dog</td>\n",
       "    </tr>\n",
       "    <tr>\n",
       "      <th>7</th>\n",
       "      <td>January</td>\n",
       "      <td>California</td>\n",
       "      <td>Cats</td>\n",
       "    </tr>\n",
       "    <tr>\n",
       "      <th>8</th>\n",
       "      <td>November</td>\n",
       "      <td>Florida</td>\n",
       "      <td>Dog</td>\n",
       "    </tr>\n",
       "    <tr>\n",
       "      <th>9</th>\n",
       "      <td>December</td>\n",
       "      <td>Florida</td>\n",
       "      <td>Cats</td>\n",
       "    </tr>\n",
       "  </tbody>\n",
       "</table>\n",
       "</div>"
      ],
      "text/plain": [
       "  birth_month         state   pet\n",
       "1     January    California  Cats\n",
       "2   September        Hawaii   Dog\n",
       "3     January        Alaska   Dog\n",
       "4        July  Rhode Island  Cats\n",
       "5   September    California  Cats\n",
       "6       April    California   Dog\n",
       "7     January    California  Cats\n",
       "8    November       Florida   Dog\n",
       "9    December       Florida  Cats"
      ]
     },
     "execution_count": 6,
     "metadata": {},
     "output_type": "execute_result"
    }
   ],
   "source": [
    "# Dictionary to convert short state to full\n",
    "state_dict = {'AK': 'Alaska', 'CA': 'California', 'RI': 'Rhode Island', 'FL':'Florida'}\n",
    "\n",
    "# Replace the short state names with full names in the 'state' column\n",
    "form_df['state'] = form_df['state'].replace(state_dict)\n",
    "state_dict\n",
    "form_df\n"
   ]
  },
  {
   "cell_type": "code",
   "execution_count": 7,
   "id": "49d6d529",
   "metadata": {},
   "outputs": [
    {
     "data": {
      "application/vnd.microsoft.datawrangler.viewer.v0+json": {
       "columns": [
        {
         "name": "index",
         "rawType": "int64",
         "type": "integer"
        },
        {
         "name": "birth_month",
         "rawType": "object",
         "type": "string"
        },
        {
         "name": "state",
         "rawType": "object",
         "type": "string"
        },
        {
         "name": "pet",
         "rawType": "object",
         "type": "string"
        }
       ],
       "ref": "0b165661-ef2d-4425-bb20-5b989e0f3858",
       "rows": [
        [
         "1",
         "January",
         "California",
         "Cats"
        ],
        [
         "2",
         "September",
         "Hawaii",
         "Dog"
        ],
        [
         "3",
         "January",
         "Alaska",
         "Dog"
        ],
        [
         "4",
         "July",
         "Rhode Island",
         "Cats"
        ],
        [
         "5",
         "September",
         "California",
         "Cats"
        ],
        [
         "6",
         "April",
         "California",
         "Dog"
        ],
        [
         "7",
         "January",
         "California",
         "Cats"
        ],
        [
         "8",
         "November",
         "Florida",
         "Dog"
        ],
        [
         "9",
         "December",
         "Florida",
         "Cats"
        ]
       ],
       "shape": {
        "columns": 3,
        "rows": 9
       }
      },
      "text/html": [
       "<div>\n",
       "<style scoped>\n",
       "    .dataframe tbody tr th:only-of-type {\n",
       "        vertical-align: middle;\n",
       "    }\n",
       "\n",
       "    .dataframe tbody tr th {\n",
       "        vertical-align: top;\n",
       "    }\n",
       "\n",
       "    .dataframe thead th {\n",
       "        text-align: right;\n",
       "    }\n",
       "</style>\n",
       "<table border=\"1\" class=\"dataframe\">\n",
       "  <thead>\n",
       "    <tr style=\"text-align: right;\">\n",
       "      <th></th>\n",
       "      <th>birth_month</th>\n",
       "      <th>state</th>\n",
       "      <th>pet</th>\n",
       "    </tr>\n",
       "  </thead>\n",
       "  <tbody>\n",
       "    <tr>\n",
       "      <th>1</th>\n",
       "      <td>January</td>\n",
       "      <td>California</td>\n",
       "      <td>Cats</td>\n",
       "    </tr>\n",
       "    <tr>\n",
       "      <th>2</th>\n",
       "      <td>September</td>\n",
       "      <td>Hawaii</td>\n",
       "      <td>Dog</td>\n",
       "    </tr>\n",
       "    <tr>\n",
       "      <th>3</th>\n",
       "      <td>January</td>\n",
       "      <td>Alaska</td>\n",
       "      <td>Dog</td>\n",
       "    </tr>\n",
       "    <tr>\n",
       "      <th>4</th>\n",
       "      <td>July</td>\n",
       "      <td>Rhode Island</td>\n",
       "      <td>Cats</td>\n",
       "    </tr>\n",
       "    <tr>\n",
       "      <th>5</th>\n",
       "      <td>September</td>\n",
       "      <td>California</td>\n",
       "      <td>Cats</td>\n",
       "    </tr>\n",
       "    <tr>\n",
       "      <th>6</th>\n",
       "      <td>April</td>\n",
       "      <td>California</td>\n",
       "      <td>Dog</td>\n",
       "    </tr>\n",
       "    <tr>\n",
       "      <th>7</th>\n",
       "      <td>January</td>\n",
       "      <td>California</td>\n",
       "      <td>Cats</td>\n",
       "    </tr>\n",
       "    <tr>\n",
       "      <th>8</th>\n",
       "      <td>November</td>\n",
       "      <td>Florida</td>\n",
       "      <td>Dog</td>\n",
       "    </tr>\n",
       "    <tr>\n",
       "      <th>9</th>\n",
       "      <td>December</td>\n",
       "      <td>Florida</td>\n",
       "      <td>Cats</td>\n",
       "    </tr>\n",
       "  </tbody>\n",
       "</table>\n",
       "</div>"
      ],
      "text/plain": [
       "  birth_month         state   pet\n",
       "1     January    California  Cats\n",
       "2   September        Hawaii   Dog\n",
       "3     January        Alaska   Dog\n",
       "4        July  Rhode Island  Cats\n",
       "5   September    California  Cats\n",
       "6       April    California   Dog\n",
       "7     January    California  Cats\n",
       "8    November       Florida   Dog\n",
       "9    December       Florida  Cats"
      ]
     },
     "execution_count": 7,
     "metadata": {},
     "output_type": "execute_result"
    }
   ],
   "source": [
    "duplicates = form_df.duplicated(subset=['birth_month', 'state'])\n",
    "form_df_cleaned = form_df[~duplicates]\n",
    "form_df"
   ]
  },
  {
   "cell_type": "code",
   "execution_count": 8,
   "id": "5176366a",
   "metadata": {},
   "outputs": [
    {
     "data": {
      "image/png": "[encoded data removed]",
      "text/plain": [
       "<Figure size 432x288 with 1 Axes>"
      ]
     },
     "metadata": {
      "needs_background": "light"
     },
     "output_type": "display_data"
    }
   ],
   "source": [
    "# Plotting the data\n",
    "plt.figure()\n",
    "form_df['state'].value_counts().plot(kind='bar');\n"
   ]
  },
  {
   "cell_type": "code",
   "execution_count": 9,
   "id": "d6073a21",
   "metadata": {},
   "outputs": [
    {
     "data": {
      "image/png": "[encoded data removed]",
      "text/plain": [
       "<Figure size 432x288 with 1 Axes>"
      ]
     },
     "metadata": {
      "needs_background": "light"
     },
     "output_type": "display_data"
    },
    {
     "data": {
      "text/plain": [
       "<Figure size 432x288 with 0 Axes>"
      ]
     },
     "metadata": {},
     "output_type": "display_data"
    }
   ],
   "source": [
    "form_df['birth_month'].value_counts().plot(kind='bar');\n",
    "plt.figure();"
   ]
  }
 ],
 "metadata": {
  "kernelspec": {
   "display_name": "base",
   "language": "python",
   "name": "python3"
  },
  "language_info": {
   "codemirror_mode": {
    "name": "ipython",
    "version": 3
   },
   "file_extension": ".py",
   "mimetype": "text/x-python",
   "name": "python",
   "nbconvert_exporter": "python",
   "pygments_lexer": "ipython3",
   "version": "3.7.3"
  }
 },
 "nbformat": 4,
 "nbformat_minor": 5
}
